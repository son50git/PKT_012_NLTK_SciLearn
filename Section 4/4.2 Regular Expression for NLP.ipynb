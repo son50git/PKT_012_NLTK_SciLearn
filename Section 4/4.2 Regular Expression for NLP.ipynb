{
 "cells": [
  {
   "cell_type": "code",
   "execution_count": 2,
   "metadata": {},
   "outputs": [],
   "source": [
    "import re\n",
    "from nltk.corpus import words"
   ]
  },
  {
   "cell_type": "code",
   "execution_count": 13,
   "metadata": {},
   "outputs": [],
   "source": [
    "english_words = words.raw().split('\\n')"
   ]
  },
  {
   "cell_type": "code",
   "execution_count": 14,
   "metadata": {},
   "outputs": [
    {
     "data": {
      "text/plain": [
       "236737"
      ]
     },
     "execution_count": 14,
     "metadata": {},
     "output_type": "execute_result"
    }
   ],
   "source": [
    "len(english_words)"
   ]
  },
  {
   "cell_type": "markdown",
   "metadata": {},
   "source": [
    "**Wildcards**"
   ]
  },
  {
   "cell_type": "code",
   "execution_count": 18,
   "metadata": {},
   "outputs": [
    {
     "data": {
      "text/plain": [
       "['tact',\n",
       " 'tactable',\n",
       " 'tactful',\n",
       " 'tactfully',\n",
       " 'tactfulness',\n",
       " 'tactic',\n",
       " 'tactical',\n",
       " 'tactically',\n",
       " 'tactician',\n",
       " 'tactics',\n",
       " 'tactile',\n",
       " 'tactilist',\n",
       " 'tactility',\n",
       " 'tactilogical',\n",
       " 'tactinvariant',\n",
       " 'taction',\n",
       " 'tactite',\n",
       " 'tactive',\n",
       " 'tactless',\n",
       " 'tactlessly']"
      ]
     },
     "execution_count": 18,
     "metadata": {},
     "output_type": "execute_result"
    }
   ],
   "source": [
    "pattern = re.compile('t..t')\n",
    "[w for w in english_words if pattern.match(w)][:20]"
   ]
  },
  {
   "cell_type": "markdown",
   "metadata": {},
   "source": [
    "**Endings**"
   ]
  },
  {
   "cell_type": "code",
   "execution_count": 20,
   "metadata": {},
   "outputs": [
    {
     "data": {
      "text/plain": [
       "['tact',\n",
       " 'taft',\n",
       " 'tait',\n",
       " 'takt',\n",
       " 'tart',\n",
       " 'taut',\n",
       " 'teat',\n",
       " 'teet',\n",
       " 'telt',\n",
       " 'tent',\n",
       " 'test',\n",
       " 'text',\n",
       " 'that',\n",
       " 'tift',\n",
       " 'tilt',\n",
       " 'tint',\n",
       " 'toat',\n",
       " 'toft',\n",
       " 'togt',\n",
       " 'toit']"
      ]
     },
     "execution_count": 20,
     "metadata": {},
     "output_type": "execute_result"
    }
   ],
   "source": [
    "pattern = re.compile('t..t$')\n",
    "[w for w in english_words if pattern.match(w)][:20]"
   ]
  },
  {
   "cell_type": "markdown",
   "metadata": {},
   "source": [
    "**Optionality**"
   ]
  },
  {
   "cell_type": "code",
   "execution_count": 23,
   "metadata": {},
   "outputs": [
    {
     "data": {
      "text/plain": [
       "['humor', 'humour']"
      ]
     },
     "execution_count": 23,
     "metadata": {},
     "output_type": "execute_result"
    }
   ],
   "source": [
    "pattern = re.compile('humou?r$')\n",
    "[w for w in english_words if pattern.match(w)][:20]"
   ]
  },
  {
   "cell_type": "markdown",
   "metadata": {},
   "source": [
    "**One or more**"
   ]
  },
  {
   "cell_type": "code",
   "execution_count": 24,
   "metadata": {},
   "outputs": [
    {
     "data": {
      "text/plain": [
       "['col', 'cool']"
      ]
     },
     "execution_count": 24,
     "metadata": {},
     "output_type": "execute_result"
    }
   ],
   "source": [
    "pattern = re.compile('co+l$')\n",
    "[w for w in english_words if pattern.match(w)][:20]"
   ]
  },
  {
   "cell_type": "markdown",
   "metadata": {},
   "source": [
    "**Grouped choices**"
   ]
  },
  {
   "cell_type": "code",
   "execution_count": 25,
   "metadata": {},
   "outputs": [
    {
     "data": {
      "text/plain": [
       "['analyse', 'analyser', 'analyses', 'analyze', 'analyzer']"
      ]
     },
     "execution_count": 25,
     "metadata": {},
     "output_type": "execute_result"
    }
   ],
   "source": [
    "pattern = re.compile('analy[sz]e')\n",
    "[w for w in english_words if pattern.match(w)][:20]"
   ]
  },
  {
   "cell_type": "code",
   "execution_count": 27,
   "metadata": {},
   "outputs": [
    {
     "data": {
      "text/plain": [
       "['pat',\n",
       " 'paut',\n",
       " 'peat',\n",
       " 'pet',\n",
       " 'piet',\n",
       " 'pit',\n",
       " 'poet',\n",
       " 'poot',\n",
       " 'pot',\n",
       " 'pout',\n",
       " 'put',\n",
       " 'pot',\n",
       " 'put']"
      ]
     },
     "execution_count": 27,
     "metadata": {},
     "output_type": "execute_result"
    }
   ],
   "source": [
    "pattern = re.compile('p[aeiou]+t$')\n",
    "[w for w in english_words if pattern.match(w)][:20]"
   ]
  }
 ],
 "metadata": {
  "kernelspec": {
   "display_name": "Python 3",
   "language": "python",
   "name": "python3"
  },
  "language_info": {
   "codemirror_mode": {
    "name": "ipython",
    "version": 3
   },
   "file_extension": ".py",
   "mimetype": "text/x-python",
   "name": "python",
   "nbconvert_exporter": "python",
   "pygments_lexer": "ipython3",
   "version": "3.6.2"
  }
 },
 "nbformat": 4,
 "nbformat_minor": 2
}
